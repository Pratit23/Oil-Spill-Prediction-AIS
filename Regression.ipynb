{
 "cells": [
  {
   "cell_type": "code",
   "execution_count": 182,
   "metadata": {},
   "outputs": [],
   "source": [
    "# Import libraries\n",
    "import pandas as pd\n",
    "import matplotlib.pyplot as plt\n",
    "from sklearn.model_selection import train_test_split\n",
    "from sklearn.linear_model import LinearRegression\n",
    "from sklearn.metrics import accuracy_score, mean_squared_error\n",
    "import numpy as np\n",
    "import seaborn as sns"
   ]
  },
  {
   "cell_type": "markdown",
   "metadata": {},
   "source": [
    "Reading only the following columns => `wdir` | `Tper` | `sper` | `Tdir` | `sdir` | `Length` | `Width`"
   ]
  },
  {
   "cell_type": "code",
   "execution_count": 163,
   "metadata": {},
   "outputs": [],
   "source": [
    "fields = [\n",
    "    'whgt',\n",
    "    'wper',\n",
    "    'wdir',\n",
    "    'Tper',\n",
    "    'sper',\n",
    "    'Tdir',\n",
    "    'sdir',\n",
    "    # 'Length',\n",
    "    # 'Width',\n",
    "    \"SOG\",\n",
    "    \"VesselType\"\n",
    "]"
   ]
  },
  {
   "cell_type": "code",
   "execution_count": 164,
   "metadata": {},
   "outputs": [
    {
     "data": {
      "text/html": [
       "<div>\n",
       "<style scoped>\n",
       "    .dataframe tbody tr th:only-of-type {\n",
       "        vertical-align: middle;\n",
       "    }\n",
       "\n",
       "    .dataframe tbody tr th {\n",
       "        vertical-align: top;\n",
       "    }\n",
       "\n",
       "    .dataframe thead th {\n",
       "        text-align: right;\n",
       "    }\n",
       "</style>\n",
       "<table border=\"1\" class=\"dataframe\">\n",
       "  <thead>\n",
       "    <tr style=\"text-align: right;\">\n",
       "      <th></th>\n",
       "      <th>Tdir</th>\n",
       "      <th>Tper</th>\n",
       "      <th>sdir</th>\n",
       "      <th>sper</th>\n",
       "      <th>wdir</th>\n",
       "      <th>wper</th>\n",
       "      <th>whgt</th>\n",
       "      <th>SOG</th>\n",
       "      <th>VesselType</th>\n",
       "    </tr>\n",
       "  </thead>\n",
       "  <tbody>\n",
       "    <tr>\n",
       "      <th>0</th>\n",
       "      <td>198.0</td>\n",
       "      <td>6.024096</td>\n",
       "      <td>213.0</td>\n",
       "      <td>5.9</td>\n",
       "      <td>296.0</td>\n",
       "      <td>2.49</td>\n",
       "      <td>0.28</td>\n",
       "      <td>9.7</td>\n",
       "      <td>80.0</td>\n",
       "    </tr>\n",
       "    <tr>\n",
       "      <th>1</th>\n",
       "      <td>198.0</td>\n",
       "      <td>6.024096</td>\n",
       "      <td>213.0</td>\n",
       "      <td>5.9</td>\n",
       "      <td>296.0</td>\n",
       "      <td>2.49</td>\n",
       "      <td>0.28</td>\n",
       "      <td>9.7</td>\n",
       "      <td>80.0</td>\n",
       "    </tr>\n",
       "    <tr>\n",
       "      <th>2</th>\n",
       "      <td>198.0</td>\n",
       "      <td>6.024096</td>\n",
       "      <td>213.0</td>\n",
       "      <td>5.9</td>\n",
       "      <td>296.0</td>\n",
       "      <td>2.49</td>\n",
       "      <td>0.28</td>\n",
       "      <td>9.8</td>\n",
       "      <td>80.0</td>\n",
       "    </tr>\n",
       "    <tr>\n",
       "      <th>3</th>\n",
       "      <td>198.0</td>\n",
       "      <td>6.024096</td>\n",
       "      <td>213.0</td>\n",
       "      <td>5.9</td>\n",
       "      <td>296.0</td>\n",
       "      <td>2.49</td>\n",
       "      <td>0.28</td>\n",
       "      <td>9.8</td>\n",
       "      <td>80.0</td>\n",
       "    </tr>\n",
       "    <tr>\n",
       "      <th>4</th>\n",
       "      <td>198.0</td>\n",
       "      <td>6.024096</td>\n",
       "      <td>213.0</td>\n",
       "      <td>5.9</td>\n",
       "      <td>296.0</td>\n",
       "      <td>2.49</td>\n",
       "      <td>0.28</td>\n",
       "      <td>9.9</td>\n",
       "      <td>80.0</td>\n",
       "    </tr>\n",
       "  </tbody>\n",
       "</table>\n",
       "</div>"
      ],
      "text/plain": [
       "    Tdir      Tper   sdir  sper   wdir  wper  whgt  SOG  VesselType\n",
       "0  198.0  6.024096  213.0   5.9  296.0  2.49  0.28  9.7        80.0\n",
       "1  198.0  6.024096  213.0   5.9  296.0  2.49  0.28  9.7        80.0\n",
       "2  198.0  6.024096  213.0   5.9  296.0  2.49  0.28  9.8        80.0\n",
       "3  198.0  6.024096  213.0   5.9  296.0  2.49  0.28  9.8        80.0\n",
       "4  198.0  6.024096  213.0   5.9  296.0  2.49  0.28  9.9        80.0"
      ]
     },
     "execution_count": 164,
     "metadata": {},
     "output_type": "execute_result"
    }
   ],
   "source": [
    "# reading selective columns for our model\n",
    "df = pd.read_csv(\"./Draft Cleaned Merged.csv\", skipinitialspace=True, usecols=fields)\n",
    "df.head()"
   ]
  },
  {
   "cell_type": "code",
   "execution_count": 165,
   "metadata": {},
   "outputs": [],
   "source": [
    "df = df[df[\"SOG\"] > 0.0]"
   ]
  },
  {
   "cell_type": "code",
   "execution_count": 166,
   "metadata": {},
   "outputs": [
    {
     "data": {
      "text/plain": [
       "(4402, 9)"
      ]
     },
     "execution_count": 166,
     "metadata": {},
     "output_type": "execute_result"
    }
   ],
   "source": [
    "df.shape"
   ]
  },
  {
   "cell_type": "code",
   "execution_count": 167,
   "metadata": {},
   "outputs": [],
   "source": [
    "Y = df[[\"SOG\"]]\n",
    "X = df.drop(\"SOG\", axis=1)"
   ]
  },
  {
   "cell_type": "code",
   "execution_count": 191,
   "metadata": {},
   "outputs": [],
   "source": [
    "# cross validation technique being applied => test-train split\n",
    "x_train, x_test, y_train, y_test= train_test_split(X, Y, test_size= 0.25, random_state=0)"
   ]
  },
  {
   "cell_type": "code",
   "execution_count": 192,
   "metadata": {},
   "outputs": [
    {
     "data": {
      "text/plain": [
       "(3301, 8)"
      ]
     },
     "execution_count": 192,
     "metadata": {},
     "output_type": "execute_result"
    }
   ],
   "source": [
    "x_train.shape"
   ]
  },
  {
   "cell_type": "code",
   "execution_count": 193,
   "metadata": {},
   "outputs": [
    {
     "data": {
      "text/plain": [
       "0.2955754831071512"
      ]
     },
     "execution_count": 193,
     "metadata": {},
     "output_type": "execute_result"
    }
   ],
   "source": [
    "reg_model = LinearRegression()\n",
    "reg_model.fit(x_train, y_train)\n",
    "reg_model.score(x_test, y_test)"
   ]
  },
  {
   "cell_type": "code",
   "execution_count": 194,
   "metadata": {},
   "outputs": [],
   "source": [
    "# Fitting Polynomial Regression to the dataset\n",
    "from sklearn.preprocessing import PolynomialFeatures\n",
    "poly_model = PolynomialFeatures(degree=3, include_bias=False)\n",
    "poly_features = poly_model.fit_transform(X)"
   ]
  },
  {
   "cell_type": "code",
   "execution_count": 195,
   "metadata": {},
   "outputs": [],
   "source": [
    "# cross validation technique being applied => test-train split\n",
    "x_train, x_test, y_train, y_test= train_test_split(poly_features, Y, test_size= 0.25, random_state=0)"
   ]
  },
  {
   "cell_type": "code",
   "execution_count": 196,
   "metadata": {},
   "outputs": [
    {
     "data": {
      "text/plain": [
       "0.6958324663619755"
      ]
     },
     "execution_count": 196,
     "metadata": {},
     "output_type": "execute_result"
    }
   ],
   "source": [
    "# we use linear regression as a base\n",
    "poly_reg_model = LinearRegression()\n",
    "poly_reg_model.fit(x_train, y_train)\n",
    "poly_reg_model.score(x_test, y_test)"
   ]
  },
  {
   "cell_type": "code",
   "execution_count": 197,
   "metadata": {},
   "outputs": [
    {
     "data": {
      "text/html": [
       "<div>\n",
       "<style scoped>\n",
       "    .dataframe tbody tr th:only-of-type {\n",
       "        vertical-align: middle;\n",
       "    }\n",
       "\n",
       "    .dataframe tbody tr th {\n",
       "        vertical-align: top;\n",
       "    }\n",
       "\n",
       "    .dataframe thead th {\n",
       "        text-align: right;\n",
       "    }\n",
       "</style>\n",
       "<table border=\"1\" class=\"dataframe\">\n",
       "  <thead>\n",
       "    <tr style=\"text-align: right;\">\n",
       "      <th></th>\n",
       "      <th>Tdir</th>\n",
       "      <th>Tper</th>\n",
       "      <th>sdir</th>\n",
       "      <th>sper</th>\n",
       "      <th>wdir</th>\n",
       "      <th>wper</th>\n",
       "      <th>whgt</th>\n",
       "      <th>VesselType</th>\n",
       "    </tr>\n",
       "  </thead>\n",
       "  <tbody>\n",
       "    <tr>\n",
       "      <th>0</th>\n",
       "      <td>198.0</td>\n",
       "      <td>6.024096</td>\n",
       "      <td>213.0</td>\n",
       "      <td>5.90</td>\n",
       "      <td>296.0</td>\n",
       "      <td>2.49</td>\n",
       "      <td>0.28</td>\n",
       "      <td>80.0</td>\n",
       "    </tr>\n",
       "    <tr>\n",
       "      <th>1</th>\n",
       "      <td>198.0</td>\n",
       "      <td>6.024096</td>\n",
       "      <td>213.0</td>\n",
       "      <td>5.90</td>\n",
       "      <td>296.0</td>\n",
       "      <td>2.49</td>\n",
       "      <td>0.28</td>\n",
       "      <td>80.0</td>\n",
       "    </tr>\n",
       "    <tr>\n",
       "      <th>2</th>\n",
       "      <td>198.0</td>\n",
       "      <td>6.024096</td>\n",
       "      <td>213.0</td>\n",
       "      <td>5.90</td>\n",
       "      <td>296.0</td>\n",
       "      <td>2.49</td>\n",
       "      <td>0.28</td>\n",
       "      <td>80.0</td>\n",
       "    </tr>\n",
       "    <tr>\n",
       "      <th>3</th>\n",
       "      <td>198.0</td>\n",
       "      <td>6.024096</td>\n",
       "      <td>213.0</td>\n",
       "      <td>5.90</td>\n",
       "      <td>296.0</td>\n",
       "      <td>2.49</td>\n",
       "      <td>0.28</td>\n",
       "      <td>80.0</td>\n",
       "    </tr>\n",
       "    <tr>\n",
       "      <th>4</th>\n",
       "      <td>198.0</td>\n",
       "      <td>6.024096</td>\n",
       "      <td>213.0</td>\n",
       "      <td>5.90</td>\n",
       "      <td>296.0</td>\n",
       "      <td>2.49</td>\n",
       "      <td>0.28</td>\n",
       "      <td>80.0</td>\n",
       "    </tr>\n",
       "    <tr>\n",
       "      <th>...</th>\n",
       "      <td>...</td>\n",
       "      <td>...</td>\n",
       "      <td>...</td>\n",
       "      <td>...</td>\n",
       "      <td>...</td>\n",
       "      <td>...</td>\n",
       "      <td>...</td>\n",
       "      <td>...</td>\n",
       "    </tr>\n",
       "    <tr>\n",
       "      <th>95</th>\n",
       "      <td>180.0</td>\n",
       "      <td>6.896551</td>\n",
       "      <td>212.0</td>\n",
       "      <td>6.27</td>\n",
       "      <td>307.0</td>\n",
       "      <td>2.70</td>\n",
       "      <td>0.37</td>\n",
       "      <td>80.0</td>\n",
       "    </tr>\n",
       "    <tr>\n",
       "      <th>96</th>\n",
       "      <td>180.0</td>\n",
       "      <td>6.896551</td>\n",
       "      <td>212.0</td>\n",
       "      <td>6.27</td>\n",
       "      <td>307.0</td>\n",
       "      <td>2.70</td>\n",
       "      <td>0.37</td>\n",
       "      <td>80.0</td>\n",
       "    </tr>\n",
       "    <tr>\n",
       "      <th>97</th>\n",
       "      <td>180.0</td>\n",
       "      <td>6.896551</td>\n",
       "      <td>212.0</td>\n",
       "      <td>6.27</td>\n",
       "      <td>307.0</td>\n",
       "      <td>2.70</td>\n",
       "      <td>0.37</td>\n",
       "      <td>80.0</td>\n",
       "    </tr>\n",
       "    <tr>\n",
       "      <th>98</th>\n",
       "      <td>180.0</td>\n",
       "      <td>6.896551</td>\n",
       "      <td>212.0</td>\n",
       "      <td>6.27</td>\n",
       "      <td>307.0</td>\n",
       "      <td>2.70</td>\n",
       "      <td>0.37</td>\n",
       "      <td>80.0</td>\n",
       "    </tr>\n",
       "    <tr>\n",
       "      <th>99</th>\n",
       "      <td>180.0</td>\n",
       "      <td>6.896551</td>\n",
       "      <td>212.0</td>\n",
       "      <td>6.27</td>\n",
       "      <td>307.0</td>\n",
       "      <td>2.70</td>\n",
       "      <td>0.37</td>\n",
       "      <td>80.0</td>\n",
       "    </tr>\n",
       "  </tbody>\n",
       "</table>\n",
       "<p>100 rows × 8 columns</p>\n",
       "</div>"
      ],
      "text/plain": [
       "     Tdir      Tper   sdir  sper   wdir  wper  whgt  VesselType\n",
       "0   198.0  6.024096  213.0  5.90  296.0  2.49  0.28        80.0\n",
       "1   198.0  6.024096  213.0  5.90  296.0  2.49  0.28        80.0\n",
       "2   198.0  6.024096  213.0  5.90  296.0  2.49  0.28        80.0\n",
       "3   198.0  6.024096  213.0  5.90  296.0  2.49  0.28        80.0\n",
       "4   198.0  6.024096  213.0  5.90  296.0  2.49  0.28        80.0\n",
       "..    ...       ...    ...   ...    ...   ...   ...         ...\n",
       "95  180.0  6.896551  212.0  6.27  307.0  2.70  0.37        80.0\n",
       "96  180.0  6.896551  212.0  6.27  307.0  2.70  0.37        80.0\n",
       "97  180.0  6.896551  212.0  6.27  307.0  2.70  0.37        80.0\n",
       "98  180.0  6.896551  212.0  6.27  307.0  2.70  0.37        80.0\n",
       "99  180.0  6.896551  212.0  6.27  307.0  2.70  0.37        80.0\n",
       "\n",
       "[100 rows x 8 columns]"
      ]
     },
     "execution_count": 197,
     "metadata": {},
     "output_type": "execute_result"
    }
   ],
   "source": [
    "X.head(100)"
   ]
  },
  {
   "cell_type": "code",
   "execution_count": 198,
   "metadata": {},
   "outputs": [
    {
     "data": {
      "text/html": [
       "<div>\n",
       "<style scoped>\n",
       "    .dataframe tbody tr th:only-of-type {\n",
       "        vertical-align: middle;\n",
       "    }\n",
       "\n",
       "    .dataframe tbody tr th {\n",
       "        vertical-align: top;\n",
       "    }\n",
       "\n",
       "    .dataframe thead th {\n",
       "        text-align: right;\n",
       "    }\n",
       "</style>\n",
       "<table border=\"1\" class=\"dataframe\">\n",
       "  <thead>\n",
       "    <tr style=\"text-align: right;\">\n",
       "      <th></th>\n",
       "      <th>SOG</th>\n",
       "    </tr>\n",
       "  </thead>\n",
       "  <tbody>\n",
       "    <tr>\n",
       "      <th>0</th>\n",
       "      <td>9.7</td>\n",
       "    </tr>\n",
       "    <tr>\n",
       "      <th>1</th>\n",
       "      <td>9.7</td>\n",
       "    </tr>\n",
       "    <tr>\n",
       "      <th>2</th>\n",
       "      <td>9.8</td>\n",
       "    </tr>\n",
       "    <tr>\n",
       "      <th>3</th>\n",
       "      <td>9.8</td>\n",
       "    </tr>\n",
       "    <tr>\n",
       "      <th>4</th>\n",
       "      <td>9.9</td>\n",
       "    </tr>\n",
       "    <tr>\n",
       "      <th>...</th>\n",
       "      <td>...</td>\n",
       "    </tr>\n",
       "    <tr>\n",
       "      <th>95</th>\n",
       "      <td>9.9</td>\n",
       "    </tr>\n",
       "    <tr>\n",
       "      <th>96</th>\n",
       "      <td>9.9</td>\n",
       "    </tr>\n",
       "    <tr>\n",
       "      <th>97</th>\n",
       "      <td>9.9</td>\n",
       "    </tr>\n",
       "    <tr>\n",
       "      <th>98</th>\n",
       "      <td>9.9</td>\n",
       "    </tr>\n",
       "    <tr>\n",
       "      <th>99</th>\n",
       "      <td>9.9</td>\n",
       "    </tr>\n",
       "  </tbody>\n",
       "</table>\n",
       "<p>100 rows × 1 columns</p>\n",
       "</div>"
      ],
      "text/plain": [
       "    SOG\n",
       "0   9.7\n",
       "1   9.7\n",
       "2   9.8\n",
       "3   9.8\n",
       "4   9.9\n",
       "..  ...\n",
       "95  9.9\n",
       "96  9.9\n",
       "97  9.9\n",
       "98  9.9\n",
       "99  9.9\n",
       "\n",
       "[100 rows x 1 columns]"
      ]
     },
     "execution_count": 198,
     "metadata": {},
     "output_type": "execute_result"
    }
   ],
   "source": [
    "Y.head(100)"
   ]
  },
  {
   "cell_type": "code",
   "execution_count": 199,
   "metadata": {},
   "outputs": [
    {
     "data": {
      "text/plain": [
       "array([[9.884375]])"
      ]
     },
     "execution_count": 199,
     "metadata": {},
     "output_type": "execute_result"
    }
   ],
   "source": [
    "poly_reg_model.predict(poly_model.fit_transform([[\n",
    "    180.0,\t6.896551,\t212.0,\t6.27,\t307.0,\t2.70,\t0.37, 80,\n",
    "]]))"
   ]
  }
 ],
 "metadata": {
  "kernelspec": {
   "display_name": "Python 3.8.5 64-bit",
   "language": "python",
   "name": "python3"
  },
  "language_info": {
   "codemirror_mode": {
    "name": "ipython",
    "version": 3
   },
   "file_extension": ".py",
   "mimetype": "text/x-python",
   "name": "python",
   "nbconvert_exporter": "python",
   "pygments_lexer": "ipython3",
   "version": "3.8.5"
  },
  "orig_nbformat": 4,
  "vscode": {
   "interpreter": {
    "hash": "f3201f45afddb5e1729fea33e2ff375d2894d1070156e23ffd043ef65b4a0ee8"
   }
  }
 },
 "nbformat": 4,
 "nbformat_minor": 2
}
