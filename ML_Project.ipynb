{
  "cells": [
    {
      "cell_type": "code",
      "execution_count": 1,
      "metadata": {
        "id": "6ryFSsS7cySS"
      },
      "outputs": [],
      "source": [
        "# Import libraries\n",
        "import glob\n",
        "import pandas as pd\n",
        "from sklearn.cluster import KMeans\n",
        "import matplotlib.pyplot as plt\n"
      ]
    },
    {
      "cell_type": "code",
      "execution_count": 2,
      "metadata": {
        "colab": {
          "base_uri": "https://localhost:8080/"
        },
        "id": "8x1bEEgtbmmn",
        "outputId": "63e0607d-1a0b-4d98-9230-ea15da535208"
      },
      "outputs": [
        {
          "name": "stderr",
          "output_type": "stream",
          "text": [
            "c:\\Users\\aajin\\AppData\\Local\\Programs\\Python\\Python38\\lib\\site-packages\\pandas\\core\\reshape\\concat.py:348: DtypeWarning: Columns (1,2,3,4,5,6,7,8,9,10,11,12) have mixed types.Specify dtype option on import or set low_memory=False.\n",
            "  objs = list(objs)\n"
          ]
        }
      ],
      "source": [
        "# Get CSV files list from a folder\n",
        "path = 'Weather_Data'\n",
        "csv_files = glob.glob(path + \"/*.csv\")\n",
        "\n",
        "df_list = (pd.read_csv(file).iloc[1:] for file in csv_files)\n",
        "\n",
        "# Concatenate all DataFrames\n",
        "weather_data = pd.concat(df_list, ignore_index=True)\n"
      ]
    },
    {
      "cell_type": "code",
      "execution_count": 3,
      "metadata": {
        "colab": {
          "base_uri": "https://localhost:8080/",
          "height": 206
        },
        "id": "-tuXwXEAd08e",
        "outputId": "fba7cc62-041c-4642-d4bb-2bf465ebd67d"
      },
      "outputs": [
        {
          "data": {
            "text/html": [
              "<div>\n",
              "<style scoped>\n",
              "    .dataframe tbody tr th:only-of-type {\n",
              "        vertical-align: middle;\n",
              "    }\n",
              "\n",
              "    .dataframe tbody tr th {\n",
              "        vertical-align: top;\n",
              "    }\n",
              "\n",
              "    .dataframe thead th {\n",
              "        text-align: right;\n",
              "    }\n",
              "</style>\n",
              "<table border=\"1\" class=\"dataframe\">\n",
              "  <thead>\n",
              "    <tr style=\"text-align: right;\">\n",
              "      <th></th>\n",
              "      <th>time</th>\n",
              "      <th>depth</th>\n",
              "      <th>latitude</th>\n",
              "      <th>longitude</th>\n",
              "      <th>Tdir</th>\n",
              "      <th>Tper</th>\n",
              "      <th>Thgt</th>\n",
              "      <th>sdir</th>\n",
              "      <th>sper</th>\n",
              "      <th>shgt</th>\n",
              "      <th>wdir</th>\n",
              "      <th>wper</th>\n",
              "      <th>whgt</th>\n",
              "    </tr>\n",
              "  </thead>\n",
              "  <tbody>\n",
              "    <tr>\n",
              "      <th>0</th>\n",
              "      <td>2022-09-08T19:00:00Z</td>\n",
              "      <td>0.0</td>\n",
              "      <td>-77.5</td>\n",
              "      <td>0.0</td>\n",
              "      <td>NaN</td>\n",
              "      <td>NaN</td>\n",
              "      <td>NaN</td>\n",
              "      <td>NaN</td>\n",
              "      <td>NaN</td>\n",
              "      <td>NaN</td>\n",
              "      <td>NaN</td>\n",
              "      <td>NaN</td>\n",
              "      <td>NaN</td>\n",
              "    </tr>\n",
              "    <tr>\n",
              "      <th>1</th>\n",
              "      <td>2022-09-08T19:00:00Z</td>\n",
              "      <td>0.0</td>\n",
              "      <td>-77.5</td>\n",
              "      <td>0.5</td>\n",
              "      <td>NaN</td>\n",
              "      <td>NaN</td>\n",
              "      <td>NaN</td>\n",
              "      <td>NaN</td>\n",
              "      <td>NaN</td>\n",
              "      <td>NaN</td>\n",
              "      <td>NaN</td>\n",
              "      <td>NaN</td>\n",
              "      <td>NaN</td>\n",
              "    </tr>\n",
              "    <tr>\n",
              "      <th>2</th>\n",
              "      <td>2022-09-08T19:00:00Z</td>\n",
              "      <td>0.0</td>\n",
              "      <td>-77.5</td>\n",
              "      <td>1.0</td>\n",
              "      <td>NaN</td>\n",
              "      <td>NaN</td>\n",
              "      <td>NaN</td>\n",
              "      <td>NaN</td>\n",
              "      <td>NaN</td>\n",
              "      <td>NaN</td>\n",
              "      <td>NaN</td>\n",
              "      <td>NaN</td>\n",
              "      <td>NaN</td>\n",
              "    </tr>\n",
              "    <tr>\n",
              "      <th>3</th>\n",
              "      <td>2022-09-08T19:00:00Z</td>\n",
              "      <td>0.0</td>\n",
              "      <td>-77.5</td>\n",
              "      <td>1.5</td>\n",
              "      <td>NaN</td>\n",
              "      <td>NaN</td>\n",
              "      <td>NaN</td>\n",
              "      <td>NaN</td>\n",
              "      <td>NaN</td>\n",
              "      <td>NaN</td>\n",
              "      <td>NaN</td>\n",
              "      <td>NaN</td>\n",
              "      <td>NaN</td>\n",
              "    </tr>\n",
              "    <tr>\n",
              "      <th>4</th>\n",
              "      <td>2022-09-08T19:00:00Z</td>\n",
              "      <td>0.0</td>\n",
              "      <td>-77.5</td>\n",
              "      <td>2.0</td>\n",
              "      <td>NaN</td>\n",
              "      <td>NaN</td>\n",
              "      <td>NaN</td>\n",
              "      <td>NaN</td>\n",
              "      <td>NaN</td>\n",
              "      <td>NaN</td>\n",
              "      <td>NaN</td>\n",
              "      <td>NaN</td>\n",
              "      <td>NaN</td>\n",
              "    </tr>\n",
              "  </tbody>\n",
              "</table>\n",
              "</div>"
            ],
            "text/plain": [
              "                   time depth latitude longitude Tdir Tper Thgt sdir sper  \\\n",
              "0  2022-09-08T19:00:00Z   0.0    -77.5       0.0  NaN  NaN  NaN  NaN  NaN   \n",
              "1  2022-09-08T19:00:00Z   0.0    -77.5       0.5  NaN  NaN  NaN  NaN  NaN   \n",
              "2  2022-09-08T19:00:00Z   0.0    -77.5       1.0  NaN  NaN  NaN  NaN  NaN   \n",
              "3  2022-09-08T19:00:00Z   0.0    -77.5       1.5  NaN  NaN  NaN  NaN  NaN   \n",
              "4  2022-09-08T19:00:00Z   0.0    -77.5       2.0  NaN  NaN  NaN  NaN  NaN   \n",
              "\n",
              "  shgt wdir wper whgt  \n",
              "0  NaN  NaN  NaN  NaN  \n",
              "1  NaN  NaN  NaN  NaN  \n",
              "2  NaN  NaN  NaN  NaN  \n",
              "3  NaN  NaN  NaN  NaN  \n",
              "4  NaN  NaN  NaN  NaN  "
            ]
          },
          "execution_count": 3,
          "metadata": {},
          "output_type": "execute_result"
        }
      ],
      "source": [
        "weather_data.head()\n"
      ]
    },
    {
      "cell_type": "code",
      "execution_count": 4,
      "metadata": {
        "colab": {
          "base_uri": "https://localhost:8080/",
          "height": 457
        },
        "id": "jctJfN-6hdBD",
        "outputId": "b7ecafc6-949e-429a-e525-8a3be8080fe1"
      },
      "outputs": [
        {
          "data": {
            "text/html": [
              "<div>\n",
              "<style scoped>\n",
              "    .dataframe tbody tr th:only-of-type {\n",
              "        vertical-align: middle;\n",
              "    }\n",
              "\n",
              "    .dataframe tbody tr th {\n",
              "        vertical-align: top;\n",
              "    }\n",
              "\n",
              "    .dataframe thead th {\n",
              "        text-align: right;\n",
              "    }\n",
              "</style>\n",
              "<table border=\"1\" class=\"dataframe\">\n",
              "  <thead>\n",
              "    <tr style=\"text-align: right;\">\n",
              "      <th></th>\n",
              "      <th>COLUMN NAME</th>\n",
              "      <th>MISSING VALUES</th>\n",
              "      <th>TOTAL ROWS</th>\n",
              "      <th>% MISSING</th>\n",
              "    </tr>\n",
              "  </thead>\n",
              "  <tbody>\n",
              "    <tr>\n",
              "      <th>0</th>\n",
              "      <td>time</td>\n",
              "      <td>0</td>\n",
              "      <td>12539520</td>\n",
              "      <td>0.00</td>\n",
              "    </tr>\n",
              "    <tr>\n",
              "      <th>1</th>\n",
              "      <td>depth</td>\n",
              "      <td>0</td>\n",
              "      <td>12539520</td>\n",
              "      <td>0.00</td>\n",
              "    </tr>\n",
              "    <tr>\n",
              "      <th>2</th>\n",
              "      <td>latitude</td>\n",
              "      <td>0</td>\n",
              "      <td>12539520</td>\n",
              "      <td>0.00</td>\n",
              "    </tr>\n",
              "    <tr>\n",
              "      <th>3</th>\n",
              "      <td>longitude</td>\n",
              "      <td>0</td>\n",
              "      <td>12539520</td>\n",
              "      <td>0.00</td>\n",
              "    </tr>\n",
              "    <tr>\n",
              "      <th>4</th>\n",
              "      <td>Tdir</td>\n",
              "      <td>4835194</td>\n",
              "      <td>12539520</td>\n",
              "      <td>38.56</td>\n",
              "    </tr>\n",
              "    <tr>\n",
              "      <th>5</th>\n",
              "      <td>Tper</td>\n",
              "      <td>4833808</td>\n",
              "      <td>12539520</td>\n",
              "      <td>38.55</td>\n",
              "    </tr>\n",
              "    <tr>\n",
              "      <th>6</th>\n",
              "      <td>Thgt</td>\n",
              "      <td>4833808</td>\n",
              "      <td>12539520</td>\n",
              "      <td>38.55</td>\n",
              "    </tr>\n",
              "    <tr>\n",
              "      <th>7</th>\n",
              "      <td>sdir</td>\n",
              "      <td>5445000</td>\n",
              "      <td>12539520</td>\n",
              "      <td>43.42</td>\n",
              "    </tr>\n",
              "    <tr>\n",
              "      <th>8</th>\n",
              "      <td>sper</td>\n",
              "      <td>5445000</td>\n",
              "      <td>12539520</td>\n",
              "      <td>43.42</td>\n",
              "    </tr>\n",
              "    <tr>\n",
              "      <th>9</th>\n",
              "      <td>shgt</td>\n",
              "      <td>5445000</td>\n",
              "      <td>12539520</td>\n",
              "      <td>43.42</td>\n",
              "    </tr>\n",
              "    <tr>\n",
              "      <th>10</th>\n",
              "      <td>wdir</td>\n",
              "      <td>8086580</td>\n",
              "      <td>12539520</td>\n",
              "      <td>64.49</td>\n",
              "    </tr>\n",
              "    <tr>\n",
              "      <th>11</th>\n",
              "      <td>wper</td>\n",
              "      <td>8086580</td>\n",
              "      <td>12539520</td>\n",
              "      <td>64.49</td>\n",
              "    </tr>\n",
              "    <tr>\n",
              "      <th>12</th>\n",
              "      <td>whgt</td>\n",
              "      <td>8086580</td>\n",
              "      <td>12539520</td>\n",
              "      <td>64.49</td>\n",
              "    </tr>\n",
              "  </tbody>\n",
              "</table>\n",
              "</div>"
            ],
            "text/plain": [
              "   COLUMN NAME  MISSING VALUES  TOTAL ROWS  % MISSING\n",
              "0         time               0    12539520       0.00\n",
              "1        depth               0    12539520       0.00\n",
              "2     latitude               0    12539520       0.00\n",
              "3    longitude               0    12539520       0.00\n",
              "4         Tdir         4835194    12539520      38.56\n",
              "5         Tper         4833808    12539520      38.55\n",
              "6         Thgt         4833808    12539520      38.55\n",
              "7         sdir         5445000    12539520      43.42\n",
              "8         sper         5445000    12539520      43.42\n",
              "9         shgt         5445000    12539520      43.42\n",
              "10        wdir         8086580    12539520      64.49\n",
              "11        wper         8086580    12539520      64.49\n",
              "12        whgt         8086580    12539520      64.49"
            ]
          },
          "execution_count": 4,
          "metadata": {},
          "output_type": "execute_result"
        }
      ],
      "source": [
        "def missing_statistics(df):\n",
        "    statitics = pd.DataFrame(df.isnull().sum()).reset_index()\n",
        "    statitics.columns = ['COLUMN NAME', \"MISSING VALUES\"]\n",
        "    statitics['TOTAL ROWS'] = df.shape[0]\n",
        "    statitics['% MISSING'] = round(\n",
        "        (statitics['MISSING VALUES']/statitics['TOTAL ROWS'])*100, 2)\n",
        "    return statitics\n",
        "\n",
        "\n",
        "missing_statistics(weather_data)\n"
      ]
    },
    {
      "cell_type": "code",
      "execution_count": 5,
      "metadata": {
        "id": "pEN1f6y3fLpG"
      },
      "outputs": [],
      "source": [
        "# Dropping rows with na\n",
        "weather_data.dropna(inplace=True, axis=0)\n",
        "weather_data.reset_index(drop=True, inplace=True)\n"
      ]
    },
    {
      "cell_type": "code",
      "execution_count": 6,
      "metadata": {},
      "outputs": [],
      "source": [
        "import datetime\n",
        "from dateutil import parser\n",
        "\n",
        "\n",
        "def convertISOtoLocal(isoString):\n",
        "    return parser.parse(isoString).replace(tzinfo=datetime.timezone.utc).astimezone().strftime(\"%d/%m/%Y %I:%M:%S %p\")\n"
      ]
    },
    {
      "cell_type": "code",
      "execution_count": 7,
      "metadata": {},
      "outputs": [],
      "source": [
        "# converting all the ISO timestrings in\n",
        "# \"time\" attribute to IST timezone\n",
        "# weather_data[\"time\"] = weather_data[\"time\"].apply(lambda x: convertISOtoLocal(x))\n"
      ]
    },
    {
      "cell_type": "code",
      "execution_count": 8,
      "metadata": {
        "colab": {
          "base_uri": "https://localhost:8080/",
          "height": 206
        },
        "id": "Ybb2VLxyfcJZ",
        "outputId": "56908256-edbc-4a63-efdb-2f29ac45873e"
      },
      "outputs": [
        {
          "data": {
            "text/html": [
              "<div>\n",
              "<style scoped>\n",
              "    .dataframe tbody tr th:only-of-type {\n",
              "        vertical-align: middle;\n",
              "    }\n",
              "\n",
              "    .dataframe tbody tr th {\n",
              "        vertical-align: top;\n",
              "    }\n",
              "\n",
              "    .dataframe thead th {\n",
              "        text-align: right;\n",
              "    }\n",
              "</style>\n",
              "<table border=\"1\" class=\"dataframe\">\n",
              "  <thead>\n",
              "    <tr style=\"text-align: right;\">\n",
              "      <th></th>\n",
              "      <th>time</th>\n",
              "      <th>depth</th>\n",
              "      <th>latitude</th>\n",
              "      <th>longitude</th>\n",
              "      <th>Tdir</th>\n",
              "      <th>Tper</th>\n",
              "      <th>Thgt</th>\n",
              "      <th>sdir</th>\n",
              "      <th>sper</th>\n",
              "      <th>shgt</th>\n",
              "      <th>wdir</th>\n",
              "      <th>wper</th>\n",
              "      <th>whgt</th>\n",
              "    </tr>\n",
              "  </thead>\n",
              "  <tbody>\n",
              "    <tr>\n",
              "      <th>0</th>\n",
              "      <td>2022-09-08T19:00:00Z</td>\n",
              "      <td>0.0</td>\n",
              "      <td>-77.0</td>\n",
              "      <td>207.5</td>\n",
              "      <td>121.0</td>\n",
              "      <td>1.9193857</td>\n",
              "      <td>0.17</td>\n",
              "      <td>18.0</td>\n",
              "      <td>3.04</td>\n",
              "      <td>0.06</td>\n",
              "      <td>124.0</td>\n",
              "      <td>1.92</td>\n",
              "      <td>0.14999999</td>\n",
              "    </tr>\n",
              "    <tr>\n",
              "      <th>1</th>\n",
              "      <td>2022-09-08T19:00:00Z</td>\n",
              "      <td>0.0</td>\n",
              "      <td>-77.0</td>\n",
              "      <td>208.0</td>\n",
              "      <td>129.0</td>\n",
              "      <td>1.8832392</td>\n",
              "      <td>0.17</td>\n",
              "      <td>6.0</td>\n",
              "      <td>3.22</td>\n",
              "      <td>0.06</td>\n",
              "      <td>138.0</td>\n",
              "      <td>1.87</td>\n",
              "      <td>0.16</td>\n",
              "    </tr>\n",
              "    <tr>\n",
              "      <th>2</th>\n",
              "      <td>2022-09-08T19:00:00Z</td>\n",
              "      <td>0.0</td>\n",
              "      <td>-76.5</td>\n",
              "      <td>207.5</td>\n",
              "      <td>102.0</td>\n",
              "      <td>2.173913</td>\n",
              "      <td>0.14999999</td>\n",
              "      <td>21.0</td>\n",
              "      <td>2.8799999</td>\n",
              "      <td>0.06</td>\n",
              "      <td>110.0</td>\n",
              "      <td>2.1499999</td>\n",
              "      <td>0.14</td>\n",
              "    </tr>\n",
              "    <tr>\n",
              "      <th>3</th>\n",
              "      <td>2022-09-08T19:00:00Z</td>\n",
              "      <td>0.0</td>\n",
              "      <td>-76.0</td>\n",
              "      <td>211.5</td>\n",
              "      <td>66.0</td>\n",
              "      <td>2.5188916</td>\n",
              "      <td>0.12</td>\n",
              "      <td>38.0</td>\n",
              "      <td>2.87</td>\n",
              "      <td>0.08</td>\n",
              "      <td>109.0</td>\n",
              "      <td>2.1599998</td>\n",
              "      <td>0.089999996</td>\n",
              "    </tr>\n",
              "    <tr>\n",
              "      <th>4</th>\n",
              "      <td>2022-09-08T19:00:00Z</td>\n",
              "      <td>0.0</td>\n",
              "      <td>-76.0</td>\n",
              "      <td>212.0</td>\n",
              "      <td>31.0</td>\n",
              "      <td>2.8985505</td>\n",
              "      <td>0.12</td>\n",
              "      <td>39.0</td>\n",
              "      <td>2.8999999</td>\n",
              "      <td>0.08</td>\n",
              "      <td>126.0</td>\n",
              "      <td>1.4499999</td>\n",
              "      <td>0.08</td>\n",
              "    </tr>\n",
              "  </tbody>\n",
              "</table>\n",
              "</div>"
            ],
            "text/plain": [
              "                   time depth latitude longitude   Tdir       Tper  \\\n",
              "0  2022-09-08T19:00:00Z   0.0    -77.0     207.5  121.0  1.9193857   \n",
              "1  2022-09-08T19:00:00Z   0.0    -77.0     208.0  129.0  1.8832392   \n",
              "2  2022-09-08T19:00:00Z   0.0    -76.5     207.5  102.0   2.173913   \n",
              "3  2022-09-08T19:00:00Z   0.0    -76.0     211.5   66.0  2.5188916   \n",
              "4  2022-09-08T19:00:00Z   0.0    -76.0     212.0   31.0  2.8985505   \n",
              "\n",
              "         Thgt  sdir       sper  shgt   wdir       wper         whgt  \n",
              "0        0.17  18.0       3.04  0.06  124.0       1.92   0.14999999  \n",
              "1        0.17   6.0       3.22  0.06  138.0       1.87         0.16  \n",
              "2  0.14999999  21.0  2.8799999  0.06  110.0  2.1499999         0.14  \n",
              "3        0.12  38.0       2.87  0.08  109.0  2.1599998  0.089999996  \n",
              "4        0.12  39.0  2.8999999  0.08  126.0  1.4499999         0.08  "
            ]
          },
          "execution_count": 8,
          "metadata": {},
          "output_type": "execute_result"
        }
      ],
      "source": [
        "weather_data.head()\n"
      ]
    },
    {
      "cell_type": "code",
      "execution_count": 9,
      "metadata": {},
      "outputs": [
        {
          "data": {
            "text/plain": [
              "array(['2022-09-08T19:00:00Z', '2022-09-08T20:00:00Z',\n",
              "       '2022-09-08T21:00:00Z', '2022-09-08T22:00:00Z',\n",
              "       '2022-09-08T23:00:00Z', '2022-09-09T00:00:00Z',\n",
              "       '2022-09-09T01:00:00Z', '2022-09-08T00:00:00Z',\n",
              "       '2022-09-08T01:00:00Z', '2022-09-08T02:00:00Z',\n",
              "       '2022-09-08T03:00:00Z', '2022-09-08T04:00:00Z',\n",
              "       '2022-09-08T05:00:00Z', '2022-09-08T06:00:00Z',\n",
              "       '2022-09-08T07:00:00Z', '2022-09-08T08:00:00Z',\n",
              "       '2022-09-08T09:00:00Z', '2022-09-08T10:00:00Z',\n",
              "       '2022-09-08T11:00:00Z', '2022-09-08T12:00:00Z',\n",
              "       '2022-09-08T13:00:00Z', '2022-09-08T14:00:00Z',\n",
              "       '2022-09-08T15:00:00Z', '2022-09-08T16:00:00Z',\n",
              "       '2022-09-08T17:00:00Z', '2022-09-08T18:00:00Z',\n",
              "       '2022-09-09T02:00:00Z', '2022-09-09T03:00:00Z',\n",
              "       '2022-09-09T04:00:00Z', '2022-09-09T05:00:00Z',\n",
              "       '2022-09-09T06:00:00Z', '2022-09-09T07:00:00Z',\n",
              "       '2022-09-09T08:00:00Z', '2022-09-09T09:00:00Z',\n",
              "       '2022-09-09T10:00:00Z', '2022-09-09T11:00:00Z',\n",
              "       '2022-09-09T12:00:00Z', '2022-09-09T13:00:00Z',\n",
              "       '2022-09-09T14:00:00Z', '2022-09-09T15:00:00Z',\n",
              "       '2022-09-09T16:00:00Z', '2022-09-09T17:00:00Z',\n",
              "       '2022-09-09T18:00:00Z', '2022-09-09T19:00:00Z',\n",
              "       '2022-09-09T20:00:00Z', '2022-09-09T21:00:00Z',\n",
              "       '2022-09-09T22:00:00Z', '2022-09-09T23:00:00Z',\n",
              "       '2022-09-10T00:00:00Z'], dtype=object)"
            ]
          },
          "execution_count": 9,
          "metadata": {},
          "output_type": "execute_result"
        }
      ],
      "source": [
        "# getting unique values of time ranges\n",
        "weather_data = weather_data.iloc[1:]\n",
        "allTimeRanges = weather_data[\"time\"].unique()\n",
        "\n",
        "# removing all occurence of the word \"UTC\"\n",
        "allTimeRanges = allTimeRanges[allTimeRanges != \"UTC\"]\n",
        "allTimeRanges\n"
      ]
    },
    {
      "cell_type": "code",
      "execution_count": 10,
      "metadata": {},
      "outputs": [
        {
          "data": {
            "text/plain": [
              "(140879, 13)"
            ]
          },
          "execution_count": 10,
          "metadata": {},
          "output_type": "execute_result"
        }
      ],
      "source": [
        "# working on only 1 time range for now\n",
        "x_subset = weather_data.loc[weather_data[\"time\"] == allTimeRanges[0]]\n",
        "x_subset.shape"
      ]
    },
    {
      "cell_type": "code",
      "execution_count": 45,
      "metadata": {},
      "outputs": [
        {
          "data": {
            "text/plain": [
              "31.0"
            ]
          },
          "execution_count": 45,
          "metadata": {},
          "output_type": "execute_result"
        }
      ],
      "source": [
        "def roundToNearestLoc(val):\n",
        "    return round(val * 2) / 2\n",
        "\n",
        "roundToNearestLoc(30.81422)"
      ]
    }
  ],
  "metadata": {
    "colab": {
      "collapsed_sections": [],
      "provenance": []
    },
    "kernelspec": {
      "display_name": "Python 3.8.7 64-bit",
      "language": "python",
      "name": "python3"
    },
    "language_info": {
      "codemirror_mode": {
        "name": "ipython",
        "version": 3
      },
      "file_extension": ".py",
      "mimetype": "text/x-python",
      "name": "python",
      "nbconvert_exporter": "python",
      "pygments_lexer": "ipython3",
      "version": "3.8.7"
    },
    "vscode": {
      "interpreter": {
        "hash": "11a4ae998bdd49cd9d17b5d349d616b058f3310f58e01e1b6ed2dff8281af773"
      }
    }
  },
  "nbformat": 4,
  "nbformat_minor": 0
}
